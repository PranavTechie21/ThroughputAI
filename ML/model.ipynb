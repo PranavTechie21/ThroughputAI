import pandas as pd
from sklearn.model_selection import train_test_split
from sklearn.preprocessing import OneHotEncoder, StandardScaler
from sklearn.compose import ColumnTransformer


df = pd.read_csv(r"C:\Users\hp\Downloads\train_level_dataset.csv")

priority_map = {"Low": 1, "Medium": 2, "High": 3}
df["Priority"] = df["Priority"].map(priority_map)


def time_to_minutes(t):
    h, m = map(int, t.split(":"))
    return h * 60 + m

df["Scheduled_Arrival"] = df["Scheduled_Arrival"].apply(time_to_minutes)
df["Scheduled_Departure"] = df["Scheduled_Departure"].apply(time_to_minutes)


features = [
    "Train_Type", "Section_ID", "Priority", 
    "Scheduled_Arrival", "Scheduled_Departure",
    "Platform_Avail", "Signal_Status", "Track_Capacity", "Hour"
]


target_delay = "Delay_Mins"         
target_conflict = "Conflict_Flag"    
target_throughput = "Throughput_Target"  


X = df[features]

y = df[[target_delay, target_conflict, target_throughput]]



X_train, X_val, y_train, y_val = train_test_split(
    X, y, test_size=0.2, random_state=42
)


categorical = ["Train_Type", "Section_ID", "Signal_Status"]   
numerical = ["Priority", "Scheduled_Arrival", "Scheduled_Departure", "Track_Capacity", "Hour"]
binary = ["Platform_Avail"] 

preprocessor = ColumnTransformer(
    transformers=[
        ("cat", OneHotEncoder(handle_unknown="ignore"), categorical),
        ("num", StandardScaler(), numerical),
        ("bin", "passthrough", binary)
    ]
)



X_train_proc = preprocessor.fit_transform(X_train)
X_val_proc = preprocessor.transform(X_val)

print("Final feature shape:", X_train_proc.shape)
print("y_train columns:", y_train.columns.tolist())

#main ml code
import tensorflow as tf
from tensorflow.keras.layers import Input, Dense, Dropout
from tensorflow.keras.models import Model


inputs = Input(shape=(X_train_proc.shape[1],))

x = Dense(128, activation="relu")(inputs)
x = Dropout(0.2)(x)
x = Dense(64, activation="relu")(x)


delay_output = Dense(1, name="delay")(x) 
conflict_output = Dense(1, activation="sigmoid", name="conflict")(x) 
throughput_output = Dense(1, name="throughput")(x)  


model = Model(inputs=inputs, outputs=[delay_output, conflict_output, throughput_output])


from tensorflow.keras.callbacks import EarlyStopping

early_stop = EarlyStopping(
    monitor="val_loss",   
    patience=10,          
    restore_best_weights=True
)


model.compile(
    optimizer="adam",
    loss={
        "delay": "mse",            
        "conflict": "binary_crossentropy",  
        "throughput": "mse"         
    },
    metrics={
        "delay": "mae",
        "conflict": "accuracy",
        "throughput": "mae"
    }
)

model.summary()


history = model.fit(
    X_train_proc,
    {"delay": y_train[target_delay],
     "conflict": y_train[target_conflict],
     "throughput": y_train[target_throughput]},
    validation_data=(X_val_proc, {
        "delay": y_val[target_delay],
        "conflict": y_val[target_conflict],
        "throughput": y_val[target_throughput]
    }),
    epochs=100,   
    batch_size=32,
    callbacks=[early_stop]
)
